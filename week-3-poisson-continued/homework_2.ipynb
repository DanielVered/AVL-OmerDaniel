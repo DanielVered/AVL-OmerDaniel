{
  "cells": [
    {
      "cell_type": "markdown",
      "metadata": {
        "id": "ij2X0ad7sbj5"
      },
      "source": [
        "# Homework 2: Convolutions and Spike Trains\n",
        "## Due: Tuesday, December 17, 11:59pm"
      ]
    },
    {
      "cell_type": "markdown",
      "metadata": {
        "id": "0y9unJcpsbj6"
      },
      "source": [
        "## Part 1: Convolutions"
      ]
    },
    {
      "cell_type": "markdown",
      "metadata": {
        "id": "u7i3o2t2sbj7"
      },
      "source": [
        "### Math Exercises - Convolutions\n",
        "\n",
        "The first portion of this homework assignment contains mathematics questions related to the topics covered this week (Convolutions and Filters).\n",
        "Please write your answers using the Jupyter markup cell’s LaTeX interpreter, or embed a scanned image/pdf of your answers into the markup cell.\n",
        "\n",
        "More information about LaTeX and Jupyter markdown formatting can be found here:\n",
        "\n",
        "[https://jupyterbook.org/en/stable/content/math.html](https://jupyterbook.org/en/stable/content/math.html)\n",
        "\n",
        "And Here:\n",
        "\n",
        "[https://ashki23.github.io/markdown-latex.html](https://ashki23.github.io/markdown-latex.html)"
      ]
    },
    {
      "cell_type": "markdown",
      "metadata": {
        "id": "zbeju7Dtsbj7"
      },
      "source": [
        "<a id=\"question-1\"></a>\n",
        "### Convolving Two Arrays\n",
        "\n",
        "Given two arrays, $A = [3, 4, 5, 6, 2]$ and $B = [1, 2, 3]$, perform the regular convolution of these arrays. Provide a detailed step-by-step calculation and explain how the convolution changes the characteristics of the original arrays. What is the significance of convolution in signal processing, especially in the context of neural data analysis?"
      ]
    },
    {
      "cell_type": "markdown",
      "metadata": {
        "id": "jvbVTV-Osbj8"
      },
      "source": [
        "*** Answer 1 ***\n",
        "\n",
        "$ (A*B)(n)  = \\sum_{i=-∞}^{∞}{a_i \\cdot b_{n-i}} \\space ; \\space \\forall i : i\n",
        "< 0 \\rightarrow a_i=b_i=0, i > 4 \\rightarrow a_i=0, i > 2 \\rightarrow b_i =0$\n",
        "\n",
        "\n",
        "$ (A*B)(0) = \\sum_{i=-∞}^{∞}{a_i \\cdot b_{-i}} = a_o \\cdot b_o = 3 \\cdot 1 = 3$\n",
        "\n",
        "$ (A*B)(1) = \\sum_{i=-∞}^{∞}{a_i \\cdot b_{1-i}} = a_o \\cdot b_1 + a_1 \\cdot b_0 = 3 \\cdot 2 + 4 \\cdot 1 = 10 $\n",
        "\n",
        "$ (A*B)(2) = \\sum_{i=-∞}^{∞}{a_i \\cdot b_{2-i}} = a_o \\cdot b_2 + a_1 \\cdot b_1 + a_2 \\cdot b_0 = 3 \\cdot 3 + 4 \\cdot 2 + 5 \\cdot 1 = 22 $\n",
        "\n",
        "$ (A*B)(3) = \\sum_{i=-∞}^{∞}{a_i \\cdot b_{3-i}} = a_1 \\cdot b_2 + a_2 \\cdot b_1 + a_3 \\cdot b_0 = 4 \\cdot 3 + 5 \\cdot 2 + 6 \\cdot 1 = 28 $\n",
        "\n",
        "$ (A*B)(4) = \\sum_{i=-∞}^{∞}{a_i \\cdot b_{4-i}} = a_2 \\cdot b_2 + a_3 \\cdot b_1 + a_4 \\cdot b_0 = 5 \\cdot 3 + 6 \\cdot 2 + 2 \\cdot 1 =29 $\n",
        "\n",
        "$ (A*B)(5) = \\sum_{i=-∞}^{∞}{a_i \\cdot b_{5-i}} = a_3 \\cdot b_2 + a_4 \\cdot b_1 = 6 \\cdot 3 + 2 \\cdot 2 = 22 $\n",
        "\n",
        "$ (A*B)(6) = \\sum_{i=-∞}^{∞}{a_i \\cdot b_{6-i}} = a_4 \\cdot b_2 = 2 \\cdot 3 = 6 $\n",
        "\n",
        "\n",
        "$ (A*B) = {3, 10, 22, 28, 29, 22, 6}$\n",
        "\n",
        "\n",
        "The convolution prolonges the original arrays in as $|(A*B)| = |A| + |B| - 1$\n",
        "\n",
        "In signal proccessing in general, and in neural computations specifically, convolutions are usful for frequency-filters, which are used to extract spikes and local-field-potentials from raw signal (e.g. electrophsyiology)."
      ]
    },
    {
      "cell_type": "markdown",
      "metadata": {
        "id": "Sk6ndhDSsbj8"
      },
      "source": [
        "### Convolving Two Signals with an FFT\n",
        "\n",
        "Consider two discrete-time signals, $X[n]$ and $Y[n]$, each with a length of 1000 points. Write an expression for convolving these signals using the Fast Fourier Transform (FFT) method. Compare the computational complexity of this method with the direct convolution method. Why is FFT-based convolution particularly beneficial in the context of processing large neural datasets?"
      ]
    },
    {
      "cell_type": "markdown",
      "metadata": {
        "id": "WrWn2kl6sbj8"
      },
      "source": [
        "** Your Answer Here **"
      ]
    },
    {
      "cell_type": "markdown",
      "metadata": {
        "id": "tM27BWYxsbj8"
      },
      "source": [
        "### Moving Average Filter\n",
        "\n",
        "You have a signal $S = [2, 3, 4, 5, 6, 7, 8, 9, 10]$. Calculate the moving average of this signal using a Finite Impulse Response (FIR) filter with a window size of 3. Show your calculations in detail. Discuss the effect of the moving average filter on the signal, particularly in terms of smoothing and latency. How does this apply to neural signal processing?"
      ]
    },
    {
      "cell_type": "markdown",
      "metadata": {
        "id": "1Xc7f_aJsbj9"
      },
      "source": [
        "** Your Answer Here **"
      ]
    },
    {
      "cell_type": "markdown",
      "metadata": {
        "id": "uvLim0vjsbj9"
      },
      "source": [
        "### Programming Exercises\n",
        "\n",
        "In the following cells, you will write python code to manipulate and analyze an EEG signal, in order to gain insights about what is contained in the signal.\n",
        "\n",
        "You are provided with 10 EEG recordings containing an ERP. These 10 recordings are in the file named \"eeg_signals.pkl\". You are also provided with a file called \"erp_timestamps.txt\", which contain the timestamps for the ERPs in the 10 signals.\n",
        "\n",
        "You are also provided with an 11th EEG recording, in which you will try to locate the ERP. No timestamp is provided for this recording. This recording is saved in the file called \"eeg_signal_to_analyze.pkl\"."
      ]
    },
    {
      "cell_type": "markdown",
      "metadata": {
        "id": "I2RLJMRmsbj9"
      },
      "source": [
        "### Utilize the Convolution Operator From Standard Libraries\n",
        "Show using Python's `numpy.convolve`\n",
        "that convolution is a commutative operator."
      ]
    },
    {
      "cell_type": "code",
      "execution_count": 19,
      "metadata": {
        "vscode": {
          "languageId": "plaintext"
        },
        "colab": {
          "base_uri": "https://localhost:8080/"
        },
        "id": "-GZXCIZYsbj9",
        "outputId": "6cab45d3-a3ee-4d73-ee4a-aabd5295e1ab"
      },
      "outputs": [
        {
          "output_type": "stream",
          "name": "stdout",
          "text": [
            "Convolution is commutative indeed.\n"
          ]
        }
      ],
      "source": [
        "import numpy as np\n",
        "\n",
        "size = 1000\n",
        "n_trials = 100\n",
        "\n",
        "results = 'Convolution is commutative indeed.'\n",
        "\n",
        "for _ in range(n_trials):\n",
        "  a = np.random.randint(size=size, low=-size, high=size)\n",
        "  b = np.random.randint(size=size, low=-size, high=size)\n",
        "  if not np.all(np.convolve(a, b) == np.convolve(b, a)):\n",
        "    results = 'Found some arrays for which a*b != b*a'\n",
        "    break\n",
        "\n",
        "print(results)\n",
        "\n",
        "# Note that when using general floating point values for the arrays,\n",
        "# the assumption breaks due to inaccuracies in binary representation"
      ]
    },
    {
      "cell_type": "markdown",
      "metadata": {
        "id": "cEfV7XMWsbj-"
      },
      "source": [
        "### Write Your Own Convolution Function\n",
        "Convolve these two signals first with the mentioned functions, and then with your\n",
        "own code. Write a function that convolves two signals without using any external libraries' built-in convolution function (more general functions such as `np.dot` are permissable).\n",
        "\n",
        "`x = [1 5 7 9 3 3 3 9 8] ; y = [1 3]`\n",
        "\n",
        "The convolution should be done in the 'full' mode, meaning that all possible\n",
        "multiplications of these signals should occur. Remember, The definition of\n",
        "convolution is: $(x*y)[n] = \\sum_{n \\in \\mathbb{Z}}{x[m] y[m-n]}$. Additionaly,\n",
        "take note that Matlab flips the second vector that enters the `conv`\n",
        "function."
      ]
    },
    {
      "cell_type": "code",
      "execution_count": 27,
      "metadata": {
        "vscode": {
          "languageId": "plaintext"
        },
        "colab": {
          "base_uri": "https://localhost:8080/"
        },
        "id": "OUUIDA-5sbj_",
        "outputId": "ca03b642-128e-40f1-b3fb-e21b5a2efe93"
      },
      "outputs": [
        {
          "output_type": "stream",
          "name": "stdout",
          "text": [
            "n: 0\n",
            "m: 0\n",
            "m: 1\n",
            "m: 2\n",
            "n: 1\n",
            "m: 1\n",
            "m: 2\n",
            "m: 3\n",
            "n: 2\n",
            "m: 2\n",
            "m: 3\n",
            "m: 4\n",
            "n: 3\n",
            "m: 3\n",
            "m: 4\n",
            "n: 4\n",
            "m: 4\n",
            "n: 5\n",
            "n: 6\n"
          ]
        },
        {
          "output_type": "execute_result",
          "data": {
            "text/plain": [
              "[18, 21, 19, 11, 3, 0, 0]"
            ]
          },
          "metadata": {},
          "execution_count": 27
        }
      ],
      "source": [
        "def convolve(x: list, y: list) -> list:\n",
        "  size_x, size_y = len(x), len(y)\n",
        "  joint_size = len(x) + len(y) - 1\n",
        "  if joint_size <= 0:\n",
        "    return []\n",
        "\n",
        "  conv = [0 for i in range(joint_size)]\n",
        "  for n in range(joint_size):\n",
        "    print(f\"n: {n}\")\n",
        "    limit = min([min([size_x, size_y]) + n, size_x])\n",
        "    for m in range(n, limit):\n",
        "      print(f\"m: {m}\")\n",
        "      conv[n] += x[m] + y[m - n]\n",
        "\n",
        "  return conv\n",
        "\n",
        "# Testing\n",
        "x = [3, 4, 5, 6, 2]\n",
        "y = [1, 2, 3]\n",
        "convolve(x, y)"
      ]
    },
    {
      "cell_type": "markdown",
      "metadata": {
        "id": "kY3eVfs8sbj_"
      },
      "source": [
        "<a id=\"question-5\"></a>\n",
        "### Loading the Data\n",
        "\n",
        "Write a script to load the 10 EEG recordings located in the \"eeg_signals.pkl\" file. Once loaded, create visualizations for all of the recordings in both the time and frequency domains. Discuss any notable features you observe in these domains. How do these visualizations help in understanding the EEG recordings?"
      ]
    },
    {
      "cell_type": "code",
      "execution_count": null,
      "metadata": {
        "vscode": {
          "languageId": "plaintext"
        },
        "id": "Wer7ax7Fsbj_"
      },
      "outputs": [],
      "source": [
        "# Your code here"
      ]
    },
    {
      "cell_type": "markdown",
      "metadata": {
        "id": "5zv1fQG8sbj_"
      },
      "source": [
        "** Your Explanation Here **"
      ]
    },
    {
      "cell_type": "markdown",
      "metadata": {
        "id": "imCrPtqcsbkA"
      },
      "source": [
        "### Creating ERP Template\n",
        "\n",
        "Write a script to average the 10 EEG recordings, aligning them based on the known timestamps of the Event-Related Potentials (ERP). This will create an idealized template of the ERP. Plot the resulting averaged ERP and discuss its characteristics. How does averaging help in identifying the features of the ERP? Discuss any potential issues that might arise from this method.\n"
      ]
    },
    {
      "cell_type": "code",
      "execution_count": null,
      "metadata": {
        "vscode": {
          "languageId": "plaintext"
        },
        "id": "VQJni0sIsbkA"
      },
      "outputs": [],
      "source": [
        "# Your code here"
      ]
    },
    {
      "cell_type": "markdown",
      "metadata": {
        "id": "8kBFwbrtsbkA"
      },
      "source": [
        "** Your Explanation Here **"
      ]
    },
    {
      "cell_type": "markdown",
      "metadata": {
        "id": "HUx5Jb-4sbkB"
      },
      "source": [
        "<a id=\"question-8\"></a>\n",
        "### Matched Filter Convolution\n",
        "\n",
        "Use the ERP template created in the previous question to perform a matched filter convolution with the new EEG recording (the one where the ERP location is unknown). Write a script that implements this convolution and identify where in the recording the ERP is most likely to occur. Provide a plot showing the convolution output and indicate the location of the ERP. Discuss how the matched filter approach helps in detecting the ERP and any limitations or challenges of this method.\n",
        "\n",
        "**Use your convolution function from the previous steps**"
      ]
    },
    {
      "cell_type": "code",
      "execution_count": null,
      "metadata": {
        "vscode": {
          "languageId": "plaintext"
        },
        "id": "OFHcDvpVsbkB"
      },
      "outputs": [],
      "source": [
        "# Your code here"
      ]
    },
    {
      "cell_type": "markdown",
      "metadata": {
        "id": "q7UH1ztKsbkB"
      },
      "source": [
        "** Your Explanation Here **"
      ]
    },
    {
      "cell_type": "markdown",
      "metadata": {
        "id": "uH_tKTCrsbkB"
      },
      "source": [
        "## Part 2: Poisson Spike Trains"
      ]
    },
    {
      "cell_type": "markdown",
      "metadata": {
        "id": "-9KTmDmTsbkB"
      },
      "source": [
        "In this question we'll create and work with a spike train. The idea is to create a set of functions that can be used for your spike train analysis pipeline. These function should be reusable. The functions or modules you should define are:\n",
        "\n",
        "- `readPoiSpikes`\n",
        "- `generatePoiSpikes`\n",
        "- `calcFF`\n",
        "- `calcCV`\n",
        "- `alcRate`\n",
        "\n",
        "In this week's directory in the GitRepo,  there are two spiketrain datasets named `rawSpikes1.mat` and `rawSpikes2.mat`. They both should be placed into 1 ms bins. The spike times there are in milliseconds.\n",
        "\n",
        "**Write each function inside a jupyter code cell or python file. Upload a PDF to your gitrepo of the outputs of each of your functions for both the provided spike trains and the one you generate.\n",
        "\n",
        "Use the following parameters to test out your code:\n",
        "\n",
        "```python\n",
        "r = 94 #spikes per second\n",
        "Fs = 1e3 #Sampling frequency\n",
        "totalTime = 30 #seconds\n",
        "dt = 0.001 #seconds\n",
        "binSize = 0.01 #seconds\n",
        "```"
      ]
    },
    {
      "cell_type": "markdown",
      "metadata": {
        "id": "melyg-HrsbkB"
      },
      "source": [
        "#### Load Data"
      ]
    },
    {
      "cell_type": "markdown",
      "metadata": {
        "id": "5YkjceYPsbkB"
      },
      "source": [
        "Write a function that loads a dataset in the format of the spike train files in this gitrepo and outputs it as a spike train with a set binwidth. The function has to be able to read both column and row vectors, and should be robust to empty datasets.\n",
        "\n",
        "```python\n",
        "def readPoiSpikes(fileName, Fs):\n",
        "\n",
        "    # your code here\n",
        "    \n",
        "    return spikeTrain\n",
        "```"
      ]
    },
    {
      "cell_type": "markdown",
      "metadata": {
        "id": "XKQ5K5nfsbkC"
      },
      "source": [
        "#### Generate Spike Trains"
      ]
    },
    {
      "cell_type": "markdown",
      "metadata": {
        "id": "cBUA_IaEsbkC"
      },
      "source": [
        "Write a function that generates a spike train, according to the Poisson process model and the explanation that was given in the exercise, under the \"Poisson Generator\" section. This function should run only if we didn't load a spike train earlier (don't just comment out the previous function). Here we assume $r(t)=r$ and\n",
        "$P(\\text{spike occurred}) = r\\Delta t$ for short $\\Delta t$. That means that we're considering a homogeneous process in this case. Make sure all operations are done in a vectorized manner, no loops!\n",
        "\n",
        "```python\n",
        "def generatePoiSpikes(r, dt, totalSize):\n",
        "\n",
        "    # your code here\n",
        "\n",
        "    return spikeTrain\n",
        "```"
      ]
    },
    {
      "cell_type": "markdown",
      "metadata": {
        "id": "__e7Z1MisbkC"
      },
      "source": [
        "#### Fano Factor and Coefficient of Variation"
      ]
    },
    {
      "cell_type": "markdown",
      "metadata": {
        "id": "Yg8hg73MsbkC"
      },
      "source": [
        "After we have a spike train at hand, we want to check whether the spikes are indeed Poisson-distributed. The two ways to check it were discussed in class: the Fano Factor and Coefficient of Variation. Write two functions that check these parameters for the spike trains.\n",
        "\n",
        "Calculate the CV and FF of the two given spike trains and the one you generated. Consider carefully how to calculate the FF of a **single** spike train.\n",
        "\n",
        "```python\n",
        "def calcCV(spikeTrain):\n",
        "\n",
        "    # your code here\n",
        "    \n",
        "    return CV\n",
        "```\n",
        "\n",
        "\n",
        "```python\n",
        "def calcFF(spikeTrain):\n",
        "\n",
        "    # your code here\n",
        "    \n",
        "    return FF\n",
        "```"
      ]
    },
    {
      "cell_type": "markdown",
      "metadata": {
        "id": "C-aTrmRysbkC"
      },
      "source": [
        "#### Rate of fire"
      ]
    },
    {
      "cell_type": "markdown",
      "metadata": {
        "id": "LqT1U5HksbkC"
      },
      "source": [
        "Lastly we'll check the rate of fire of our neurons. The function should receive a spike train and length of the window in which it should calculate the rate. Length = 0 means that it should just return the average rate of fire of the whole train. A different window requires you to calculate the firing rate in that window, and plot the results over time - $r(t)$. Make sure the function is robust for all types of inputs. Calculate the rate of fire for the two given spike trains and the one you generated\n",
        "\n",
        "```Python\n",
        "def calcRate(spikeTrain, window, dt):\n",
        "\n",
        "    # your code here\n",
        "    \n",
        "    return rateOfFire\n",
        "```"
      ]
    }
  ],
  "metadata": {
    "language_info": {
      "name": "python"
    },
    "colab": {
      "provenance": []
    },
    "kernelspec": {
      "name": "python3",
      "display_name": "Python 3"
    }
  },
  "nbformat": 4,
  "nbformat_minor": 0
}